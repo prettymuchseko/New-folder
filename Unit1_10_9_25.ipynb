{
  "nbformat": 4,
  "nbformat_minor": 0,
  "metadata": {
    "colab": {
      "provenance": [],
      "authorship_tag": "ABX9TyMRqXcYv6CVgHDUF6jbOYWq",
      "include_colab_link": true
    },
    "kernelspec": {
      "name": "python3",
      "display_name": "Python 3"
    },
    "language_info": {
      "name": "python"
    }
  },
  "cells": [
    {
      "cell_type": "markdown",
      "metadata": {
        "id": "view-in-github",
        "colab_type": "text"
      },
      "source": [
        "<a href=\"https://colab.research.google.com/github/prettymuchseko/New-folder/blob/main/Unit1_10_9_25.ipynb\" target=\"_parent\"><img src=\"https://colab.research.google.com/assets/colab-badge.svg\" alt=\"Open In Colab\"/></a>"
      ]
    },
    {
      "cell_type": "code",
      "execution_count": 1,
      "metadata": {
        "colab": {
          "base_uri": "https://localhost:8080/"
        },
        "id": "Iu34B8cSDIsx",
        "outputId": "4835bad0-4732-47e3-b950-a81be9050c60"
      },
      "outputs": [
        {
          "output_type": "stream",
          "name": "stdout",
          "text": [
            "True\n",
            "True\n",
            "0\n",
            "0\n",
            "³\n",
            "False\n",
            "True\n",
            "Nahi hai\n"
          ]
        }
      ],
      "source": [
        "# isdigit()\n",
        "x=\"5080\"\n",
        "print(x.isdigit())\n",
        "a=\"\\u0030\"\n",
        "print(a.isdigit())\n",
        "print(a)\n",
        "b=\"\\u00B2\"\n",
        "print(a)\n",
        "c=\"\\u00B3\"\n",
        "print(c)\n",
        "# in keyword\n",
        "avenger_ki=[\"Nikola Jokic\", \"Stephen Curry\", \"Anthony Edwards\"]\n",
        "print(\"Tyrese Haliburton\" in avenger_ki)\n",
        "# using if and in keywords\n",
        "if \"Giannis Antetakounmpo\" in avenger_ki:\n",
        "  print(\"Yes, Giannis Antetekounmpo is present\")\n",
        "print(\"Jalen Brunson\" not in avenger_ki)\n",
        "if \"Lebron James\" not in avenger_ki:\n",
        "  print(\"Nahi hai\")"
      ]
    },
    {
      "cell_type": "markdown",
      "source": [
        "Lauki tried to trick avengers. Check if Lauki is in it. If yes, print enemy detected, else all clear."
      ],
      "metadata": {
        "id": "P07kKfQqJ_zr"
      }
    },
    {
      "cell_type": "code",
      "source": [
        "avenger_ki=[\"Nikola Jokic\", \"Stephen Curry\", \"Anthony Edwards\"]\n",
        "if \"lauki\" in avenger_ki:\n",
        "  print(\"Enemy detected\")\n",
        "else:\n",
        "  print(\"All clear\")"
      ],
      "metadata": {
        "colab": {
          "base_uri": "https://localhost:8080/"
        },
        "id": "kxTBWNbPKEU1",
        "outputId": "f2fd67b0-b174-4389-8afc-80108828eb63"
      },
      "execution_count": 2,
      "outputs": [
        {
          "output_type": "stream",
          "name": "stdout",
          "text": [
            "All clear\n"
          ]
        }
      ]
    },
    {
      "cell_type": "markdown",
      "source": [
        "We define the usage of capitalsin aword to be right if one of the following cases hold.\n",
        "\n",
        "1.   all letters in this word are capital (like USA)\n",
        "2.   all letters in this word are not capital (like leetcode)\n",
        "3.   only first letter in the word is capital (like Google)\n",
        "\n",
        "Given a string word, return true if the usage of capitals in it is right.\n",
        "e.g. Input -> USA, Output -> True\n",
        "e.g. Input -> FlaG,  Output -> False"
      ],
      "metadata": {
        "id": "7eOz6pT-KNjX"
      }
    },
    {
      "cell_type": "code",
      "source": [
        "x = input()\n",
        "cp = x.capitalize()\n",
        "lc = x.lower()\n",
        "uc = x.upper()\n",
        "if x==cp or x==lc or x==uc:\n",
        "  print(\"TRUE\")\n",
        "else:\n",
        "  print(\"FALSE\")"
      ],
      "metadata": {
        "colab": {
          "base_uri": "https://localhost:8080/"
        },
        "id": "p4iuEcqXKPoE",
        "outputId": "83dcf435-11d4-4065-fe50-d0a69f59a0e8"
      },
      "execution_count": 4,
      "outputs": [
        {
          "output_type": "stream",
          "name": "stdout",
          "text": [
            "FlaG\n",
            "FALSE\n"
          ]
        }
      ]
    }
  ]
}
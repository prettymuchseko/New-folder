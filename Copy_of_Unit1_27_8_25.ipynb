{
  "nbformat": 4,
  "nbformat_minor": 0,
  "metadata": {
    "colab": {
      "provenance": [],
      "authorship_tag": "ABX9TyPKaKvTheyXAFvQR5kz6moN",
      "include_colab_link": true
    },
    "kernelspec": {
      "name": "python3",
      "display_name": "Python 3"
    },
    "language_info": {
      "name": "python"
    }
  },
  "cells": [
    {
      "cell_type": "markdown",
      "metadata": {
        "id": "view-in-github",
        "colab_type": "text"
      },
      "source": [
        "<a href=\"https://colab.research.google.com/github/prettymuchseko/New-folder/blob/main/Copy_of_Unit1_27_8_25.ipynb\" target=\"_parent\"><img src=\"https://colab.research.google.com/assets/colab-badge.svg\" alt=\"Open In Colab\"/></a>"
      ]
    },
    {
      "cell_type": "markdown",
      "source": [
        "Local and Global Variables"
      ],
      "metadata": {
        "id": "8ctv5S1W9JXG"
      }
    },
    {
      "cell_type": "code",
      "execution_count": null,
      "metadata": {
        "colab": {
          "base_uri": "https://localhost:8080/"
        },
        "id": "H5B1bMUa76MA",
        "outputId": "33f98cab-8268-4c0e-80de-293baf25d2ad"
      },
      "outputs": [
        {
          "output_type": "stream",
          "name": "stdout",
          "text": [
            "hello\n",
            "Outside local scope: hi\n"
          ]
        }
      ],
      "source": [
        "msg1=\"hi\"\n",
        "def greet():\n",
        "  msg=\"hello\"\n",
        "  print(msg)\n",
        "greet()\n",
        "print(\"Outside local scope:\", msg1)"
      ]
    },
    {
      "cell_type": "markdown",
      "source": [
        "Kal ka target:\n",
        "https://www.google.com/url?sa=t&rct=j&q=&esrc=s&source=web&cd=&cad=rja&uact=8&ved=2ahUKEwjFzMv7oaqPAxXiRmwGHUCJIOQQ-NANegQIOhAC&url=https%3A%2F%2Fwww.youtube.com%2Fwatch%3Fv%3D4KlvI_uK9zs%26t%3D451&usg=AOvVaw3i5M2IWP27lCKYH0Tyt1Ja&opi=89978449"
      ],
      "metadata": {
        "id": "8oIZ6rzNGFeh"
      }
    },
    {
      "cell_type": "markdown",
      "source": [
        "String Operations"
      ],
      "metadata": {
        "id": "419cxevEG2Nq"
      }
    },
    {
      "cell_type": "code",
      "source": [
        "X=\"hEllo\"\n",
        "print(X)\n",
        "X=X.upper()\n",
        "print(X)\n",
        "X=X.lower()\n",
        "print(X)\n",
        "X=X.replace(\"o\",\"O\")\n",
        "print(X)\n",
        "X=X[1:5]\n",
        "print(X)\n",
        "X=X.title()\n",
        "print(X)\n",
        "X=X.swapcase()\n",
        "print(X)\n",
        "X=X.capitalize()\n",
        "print(X)\n",
        "p=X.count(\"l\")\n",
        "print(p)\n",
        "X=X.casefold()\n",
        "print(X)\n",
        "X=X.center(50)\n",
        "print(X)"
      ],
      "metadata": {
        "colab": {
          "base_uri": "https://localhost:8080/"
        },
        "id": "6KJaH7dtDL-3",
        "outputId": "a640acf9-a269-4fc1-dcee-c25ae4e12327"
      },
      "execution_count": null,
      "outputs": [
        {
          "output_type": "stream",
          "name": "stdout",
          "text": [
            "hEllo\n",
            "HELLO\n",
            "hello\n",
            "hellO\n",
            "ellO\n",
            "Ello\n",
            "eLLO\n",
            "Ello\n",
            "2\n",
            "ello\n",
            "                       ello                       \n"
          ]
        }
      ]
    }
  ]
}
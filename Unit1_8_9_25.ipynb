{
  "nbformat": 4,
  "nbformat_minor": 0,
  "metadata": {
    "colab": {
      "provenance": [],
      "authorship_tag": "ABX9TyPAjHMM6NU8/OM5H4+Odbb1",
      "include_colab_link": true
    },
    "kernelspec": {
      "name": "python3",
      "display_name": "Python 3"
    },
    "language_info": {
      "name": "python"
    }
  },
  "cells": [
    {
      "cell_type": "markdown",
      "metadata": {
        "id": "view-in-github",
        "colab_type": "text"
      },
      "source": [
        "<a href=\"https://colab.research.google.com/github/prettymuchseko/New-folder/blob/main/Unit1_8_9_25.ipynb\" target=\"_parent\"><img src=\"https://colab.research.google.com/assets/colab-badge.svg\" alt=\"Open In Colab\"/></a>"
      ]
    },
    {
      "cell_type": "markdown",
      "source": [
        "String are the arrays of bytes representing unicode characters. There is no separate character data type. String can be created using single, double or triple quotes. Excess individual characters using indexing, staring at 0. Strings are immutable. A string can be repeated by multiplying it by an integer. The function iused for string is str()."
      ],
      "metadata": {
        "id": "yjdCi4wUlytX"
      }
    },
    {
      "cell_type": "code",
      "execution_count": 17,
      "metadata": {
        "colab": {
          "base_uri": "https://localhost:8080/"
        },
        "id": "A2rz_HuwlmAN",
        "outputId": "2967fa45-05b0-42bd-b68b-3543bd0da9b1"
      },
      "outputs": [
        {
          "output_type": "stream",
          "name": "stdout",
          "text": [
            "This is a string nigga\n",
            "Thisisastringnigga\n",
            "This is a.......single line, nigga\n",
            "The length of string is: 34\n",
            "First ch: T\n",
            "#this_is_not_a_nigga\n",
            "his_\n"
          ]
        }
      ],
      "source": [
        "s1=\"This is a string nigga\"\n",
        "print(s1)\n",
        "s2=\"This\"+\"is\"+'a'+'''string'''+\"nigga\"\n",
        "print(s2)\n",
        "s3=\"This is a\\\n",
        ".......single line, nigga\"\n",
        "print(s3)\n",
        "print(\"The length of string is:\", len(s3))\n",
        "print(\"First ch:\", s3[-0])\n",
        "s4=\"#this_is_not_a_nigga\"\n",
        "print(s4)\n",
        "#the next concept is known as slicing\n",
        "s5=s4[2:6]\n",
        "print(s5)"
      ]
    },
    {
      "cell_type": "markdown",
      "source": [
        "Slicing method can be used to split the dataset into train and test subset."
      ],
      "metadata": {
        "id": "-EyCD9IGruQZ"
      }
    },
    {
      "cell_type": "code",
      "source": [
        "name=\"Future\"\n",
        "for ch in name:\n",
        "  print(ch, end=\"*\\n\")\n",
        "for ch in name:\n",
        "  print(ch)\n",
        "ss=\"Loop\"\n",
        "for i in range(len(ss)):\n",
        "  print(-i, ss[-i])\n",
        "sp=\"Playboi Carti\"\n",
        "for i in range(len(sp)):\n",
        "  print(sp[-i-1])\n",
        "rev=\"\"\n",
        "for ch in sp:\n",
        "  rev=ch+rev\n",
        "print(rev)\n",
        "rev=sp[::-1]\n",
        "print(rev)\n",
        "#will not work as step size is negative while bounds are positive\n",
        "k=sp[4:6:-2]\n",
        "print(k)\n",
        "#Strings are immutable\n",
        "#sp[0]=\"B\"\n",
        "#print(sp)"
      ],
      "metadata": {
        "colab": {
          "base_uri": "https://localhost:8080/"
        },
        "id": "myqZoLJqsAc_",
        "outputId": "bee8b54f-d066-4709-a33d-2ab1fa75053a"
      },
      "execution_count": 34,
      "outputs": [
        {
          "output_type": "stream",
          "name": "stdout",
          "text": [
            "F*\n",
            "u*\n",
            "t*\n",
            "u*\n",
            "r*\n",
            "e*\n",
            "F\n",
            "u\n",
            "t\n",
            "u\n",
            "r\n",
            "e\n",
            "0 L\n",
            "-1 p\n",
            "-2 o\n",
            "-3 o\n",
            "i\n",
            "t\n",
            "r\n",
            "a\n",
            "C\n",
            " \n",
            "i\n",
            "o\n",
            "b\n",
            "y\n",
            "a\n",
            "l\n",
            "P\n",
            "itraC iobyalP\n",
            "itraC iobyalP\n",
            "\n",
            "t-rex\n",
            "T-REX\n",
            "T-Rex\n",
            "T-rex\n"
          ]
        }
      ]
    },
    {
      "cell_type": "code",
      "source": [
        "x=\"T-Rex\"\n",
        "print(x.lower())\n",
        "print(x.upper())\n",
        "print(x.title())\n",
        "print(x.capitalize())"
      ],
      "metadata": {
        "id": "FNo4W66EwbNk"
      },
      "execution_count": null,
      "outputs": []
    },
    {
      "cell_type": "markdown",
      "source": [
        "We can use these methods in machine and deep learning models. The dataset given to the model should bhe consistent. This concept is known as normalisation."
      ],
      "metadata": {
        "id": "V81P3jvPvvTc"
      }
    },
    {
      "cell_type": "code",
      "source": [
        "x=\"@Joker\"\n",
        "y=\" HELLO\"\n",
        "print(x.strip(\"@\"))\n",
        "print(y.strip())\n",
        "print(x.replace(\"@\",\" \"))"
      ],
      "metadata": {
        "colab": {
          "base_uri": "https://localhost:8080/"
        },
        "id": "K-7F3QWHwipT",
        "outputId": "e4da3a25-1d8d-4f9b-df57-84c7945c7ffb"
      },
      "execution_count": 38,
      "outputs": [
        {
          "output_type": "stream",
          "name": "stdout",
          "text": [
            "Joker\n",
            "HELLO\n",
            " Joker\n"
          ]
        }
      ]
    }
  ]
}
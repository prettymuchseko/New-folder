{
  "nbformat": 4,
  "nbformat_minor": 0,
  "metadata": {
    "colab": {
      "provenance": [],
      "authorship_tag": "ABX9TyMEblb+rifQVcNZJhqS8sxX",
      "include_colab_link": true
    },
    "kernelspec": {
      "name": "python3",
      "display_name": "Python 3"
    },
    "language_info": {
      "name": "python"
    }
  },
  "cells": [
    {
      "cell_type": "markdown",
      "metadata": {
        "id": "view-in-github",
        "colab_type": "text"
      },
      "source": [
        "<a href=\"https://colab.research.google.com/github/prettymuchseko/New-folder/blob/main/Unit1_17_09_25.ipynb\" target=\"_parent\"><img src=\"https://colab.research.google.com/assets/colab-badge.svg\" alt=\"Open In Colab\"/></a>"
      ]
    },
    {
      "cell_type": "markdown",
      "source": [
        "# Arithemtic Operators"
      ],
      "metadata": {
        "id": "xWCs1JNmK95w"
      }
    },
    {
      "cell_type": "code",
      "execution_count": null,
      "metadata": {
        "colab": {
          "base_uri": "https://localhost:8080/"
        },
        "id": "V_HWIJWBE0zV",
        "outputId": "0073a623-2f3c-48b2-9fdc-e8321a94b077"
      },
      "outputs": [
        {
          "output_type": "stream",
          "name": "stdout",
          "text": [
            "19\n",
            "1\n",
            "90\n",
            "1.1111111111111112\n",
            "1\n",
            "1000000000\n",
            "1\n",
            "-4\n",
            "512\n"
          ]
        }
      ],
      "source": [
        "print(10+9)\n",
        "print(10-9)\n",
        "print(10*9)\n",
        "print(10/9)\n",
        "print(10//9)\n",
        "print(10**9)\n",
        "print(10%3)\n",
        "print(-10//3)\n",
        "# Python floor division differ from C++. In Python you get answer -4 while in C++, we get answer -3.\n",
        "print(2**3**2)\n",
        "# right associativity\n",
        "# // is floor division\n",
        "# ** is exponential"
      ]
    },
    {
      "cell_type": "code",
      "source": [
        "x=5\n",
        "x*=2+3\n",
        "print(x)\n",
        "# precedence of *= is less than + operator"
      ],
      "metadata": {
        "colab": {
          "base_uri": "https://localhost:8080/"
        },
        "id": "zhmwLS7cHTGa",
        "outputId": "843cc5a8-f8d0-46dc-963f-41a6b2a59a9f"
      },
      "execution_count": null,
      "outputs": [
        {
          "output_type": "stream",
          "name": "stdout",
          "text": [
            "25\n"
          ]
        }
      ]
    },
    {
      "cell_type": "markdown",
      "source": [
        "Evaluate y=10 by floor division 3"
      ],
      "metadata": {
        "id": "B-LYRwxSH8Cm"
      }
    },
    {
      "cell_type": "code",
      "source": [
        "y=10\n",
        "y//=3\n",
        "print(y)\n",
        "z=10\n",
        "z%=3\n",
        "print(z)\n",
        "bx=5\n",
        "bx**=3\n",
        "print(bx)"
      ],
      "metadata": {
        "colab": {
          "base_uri": "https://localhost:8080/"
        },
        "id": "H6yvrgSWH_oP",
        "outputId": "88632365-d06b-4cd4-dd13-5db3e611f9d2"
      },
      "execution_count": null,
      "outputs": [
        {
          "output_type": "stream",
          "name": "stdout",
          "text": [
            "3\n",
            "1\n",
            "125\n"
          ]
        }
      ]
    },
    {
      "cell_type": "markdown",
      "source": [
        "1. Code consistent and readbility\n",
        "2. Efficiency (in place updation: in python operators like += try to update in place)"
      ],
      "metadata": {
        "id": "otnkoGyHJEu-"
      }
    },
    {
      "cell_type": "code",
      "source": [
        "a=[1,2]\n",
        "b=a\n",
        "a+=[3]\n",
        "print(a)\n",
        "b=a\n",
        "a=a+[3]\n",
        "print(b)\n",
        "# output is 1,2 because a new list was created"
      ],
      "metadata": {
        "colab": {
          "base_uri": "https://localhost:8080/"
        },
        "id": "C_CPpuK4JJYi",
        "outputId": "653d33f1-78d7-497f-92a3-cd065befe161"
      },
      "execution_count": null,
      "outputs": [
        {
          "output_type": "stream",
          "name": "stdout",
          "text": [
            "[1, 2, 3]\n",
            "[1, 2, 3]\n"
          ]
        }
      ]
    },
    {
      "cell_type": "markdown",
      "source": [
        "# Boolean Operators"
      ],
      "metadata": {
        "id": "AxhY3LHrE6tD"
      }
    },
    {
      "cell_type": "code",
      "source": [
        "x=5\n",
        "x&=3\n",
        "print(x)\n",
        "x=5\n",
        "x|=3\n",
        "print(x)\n",
        "x=5\n",
        "x^=3\n",
        "print(x)\n",
        "x=5\n",
        "x>>1\n",
        "print(x)\n",
        "x=10\n",
        "x<<1\n",
        "print(x)\n",
        "print(x:=3)"
      ],
      "metadata": {
        "colab": {
          "base_uri": "https://localhost:8080/"
        },
        "id": "O2VD-mvaKViJ",
        "outputId": "9e0fccc9-60fc-4293-da49-5162106d57a2"
      },
      "execution_count": null,
      "outputs": [
        {
          "output_type": "stream",
          "name": "stdout",
          "text": [
            "1\n",
            "7\n",
            "6\n",
            "5\n",
            "10\n",
            "3\n"
          ]
        }
      ]
    },
    {
      "cell_type": "markdown",
      "source": [
        "# Comparison Operators"
      ],
      "metadata": {
        "id": "r2A6-OKcMOkC"
      }
    },
    {
      "cell_type": "code",
      "source": [
        "x=10\n",
        "y=10\n",
        "print(x==y)\n",
        "print(x!=y)\n",
        "print(x>y)\n",
        "print(x<y)\n",
        "print(x>=y)\n",
        "print(x<=y)\n",
        "print(10==10.0)\n",
        "print(\"10\"==10)\n",
        "print(True==1)\n",
        "print(True+True)\n",
        "print(True+False)"
      ],
      "metadata": {
        "colab": {
          "base_uri": "https://localhost:8080/"
        },
        "id": "gWG-6WjmLtTx",
        "outputId": "0c941b84-e3f6-49b7-d1e2-4877dcf4167d"
      },
      "execution_count": null,
      "outputs": [
        {
          "output_type": "stream",
          "name": "stdout",
          "text": [
            "True\n",
            "False\n",
            "False\n",
            "False\n",
            "True\n",
            "True\n",
            "True\n",
            "False\n",
            "True\n",
            "2\n",
            "1\n"
          ]
        }
      ]
    },
    {
      "cell_type": "markdown",
      "source": [
        "# Logical Operators\n"
      ],
      "metadata": {
        "id": "FtOlBgRbNXwS"
      }
    },
    {
      "cell_type": "code",
      "source": [
        "print(0 and 5)\n",
        "print(0 or 5)\n",
        "print(not 0)\n",
        "print(not 5)\n",
        "print([] and \"Hi\")\n",
        "print([] or \"Hi\")"
      ],
      "metadata": {
        "colab": {
          "base_uri": "https://localhost:8080/"
        },
        "id": "uJhvI-iSNdw3",
        "outputId": "06ce5ed8-d088-4bae-8d4f-f100ed8bad37"
      },
      "execution_count": null,
      "outputs": [
        {
          "output_type": "stream",
          "name": "stdout",
          "text": [
            "0\n",
            "5\n",
            "True\n",
            "False\n",
            "[]\n"
          ]
        }
      ]
    },
    {
      "cell_type": "markdown",
      "source": [
        "A and B does not evaluate B if  is False. This concept is called short-circuiting."
      ],
      "metadata": {
        "id": "ePpf19rlOM-a"
      }
    },
    {
      "cell_type": "markdown",
      "source": [
        "# Identity Function"
      ],
      "metadata": {
        "id": "hDQ_PnOx4-s3"
      }
    },
    {
      "cell_type": "code",
      "source": [
        "a = [1,2,3]\n",
        "print(3 in a)\n",
        "print(\"a\" in \"banana\")\n",
        "print(\"nana\" in \"banana\")"
      ],
      "metadata": {
        "colab": {
          "base_uri": "https://localhost:8080/"
        },
        "id": "0cZL9EsR4q5K",
        "outputId": "db39d9c4-c54f-426e-9f26-21b2c7cbf27c"
      },
      "execution_count": null,
      "outputs": [
        {
          "output_type": "stream",
          "name": "stdout",
          "text": [
            "True\n",
            "True\n",
            "True\n"
          ]
        }
      ]
    },
    {
      "cell_type": "markdown",
      "source": [
        "# Bitwise Operators"
      ],
      "metadata": {
        "id": "dWNpml675agd"
      }
    },
    {
      "cell_type": "code",
      "source": [
        "print(5&3)\n",
        "print(5|3)\n",
        "print(5^3)\n",
        "print(~5)\n",
        "print(-10 // 4 / 3)\n",
        "print(\"APPLE\" < \"apple\")\n",
        "print(True == 2-1)"
      ],
      "metadata": {
        "colab": {
          "base_uri": "https://localhost:8080/"
        },
        "id": "pdzlZHwa5hFn",
        "outputId": "59cc6eb2-bd9f-45ee-9a53-6e13fc30a435"
      },
      "execution_count": null,
      "outputs": [
        {
          "output_type": "stream",
          "name": "stdout",
          "text": [
            "1\n",
            "7\n",
            "6\n",
            "-6\n",
            "-1.0\n",
            "True\n",
            "True\n"
          ]
        }
      ]
    }
  ]
}
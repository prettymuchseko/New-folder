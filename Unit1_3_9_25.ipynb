{
  "nbformat": 4,
  "nbformat_minor": 0,
  "metadata": {
    "colab": {
      "provenance": [],
      "authorship_tag": "ABX9TyOhrempVI+OsKHtiAhUxiMB",
      "include_colab_link": true
    },
    "kernelspec": {
      "name": "python3",
      "display_name": "Python 3"
    },
    "language_info": {
      "name": "python"
    }
  },
  "cells": [
    {
      "cell_type": "markdown",
      "metadata": {
        "id": "view-in-github",
        "colab_type": "text"
      },
      "source": [
        "<a href=\"https://colab.research.google.com/github/prettymuchseko/New-folder/blob/main/Unit1_3_9_25.ipynb\" target=\"_parent\"><img src=\"https://colab.research.google.com/assets/colab-badge.svg\" alt=\"Open In Colab\"/></a>"
      ]
    },
    {
      "cell_type": "markdown",
      "source": [
        "\n",
        "1. find max and min from a list\n",
        "2. rotate a list to the right by k steps\n"
      ],
      "metadata": {
        "id": "-hLUtow0BQHs"
      }
    },
    {
      "cell_type": "code",
      "execution_count": 1,
      "metadata": {
        "colab": {
          "base_uri": "https://localhost:8080/"
        },
        "id": "DowIL9ntBF9C",
        "outputId": "df442487-18ce-4e52-94d5-9e9b8ec517bd"
      },
      "outputs": [
        {
          "output_type": "stream",
          "name": "stdout",
          "text": [
            "12\n",
            "1\n"
          ]
        }
      ],
      "source": [
        "num = [4, 7, 1, 9, 12, 3]\n",
        "min = max = num[0]\n",
        "for i in num :\n",
        "  if min < i :\n",
        "    min = i\n",
        "  if max > i :\n",
        "    max = i\n",
        "#print(min)\n",
        "#print(max)\n",
        "print(f\"max is {max} and min is {min}\")"
      ]
    },
    {
      "cell_type": "code",
      "source": [
        "numb = [1, 2, 3, 4, 5]\n",
        "k =  7\n",
        "k = k % len(numb)\n",
        "roti = numb[-k:] + numb[:-k]"
      ],
      "metadata": {
        "id": "H56kX15wG-ly"
      },
      "execution_count": null,
      "outputs": []
    }
  ]
}
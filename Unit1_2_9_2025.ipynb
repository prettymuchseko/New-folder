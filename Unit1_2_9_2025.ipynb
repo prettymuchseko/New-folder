{
  "nbformat": 4,
  "nbformat_minor": 0,
  "metadata": {
    "colab": {
      "provenance": [],
      "authorship_tag": "ABX9TyOtGl0fJQ5jUJc7B6nK2NGC",
      "include_colab_link": true
    },
    "kernelspec": {
      "name": "python3",
      "display_name": "Python 3"
    },
    "language_info": {
      "name": "python"
    }
  },
  "cells": [
    {
      "cell_type": "markdown",
      "metadata": {
        "id": "view-in-github",
        "colab_type": "text"
      },
      "source": [
        "<a href=\"https://colab.research.google.com/github/prettymuchseko/New-folder/blob/main/Unit1_2_9_2025.ipynb\" target=\"_parent\"><img src=\"https://colab.research.google.com/assets/colab-badge.svg\" alt=\"Open In Colab\"/></a>"
      ]
    },
    {
      "cell_type": "markdown",
      "source": [
        "1. int - use for the categorical encodings, class ids, one hot indexing and token ids in NLP\n",
        "2. float - represents real world value data like features, predictions, gradients and weights\n",
        "3. complex - use in signal processing, audio and image analysis, spectral methods such as FFt in EEG\n",
        "4. float32 / float64 - standard in deep learning frameworks like pytorch ande tensorflow to balance precision and memory usage\n",
        "5. int32 / int64 - useful for labels, indexing arrays / tensor and specifying sequence length in LLP"
      ],
      "metadata": {
        "id": "3CiE-k6gtKbf"
      }
    },
    {
      "cell_type": "code",
      "execution_count": 4,
      "metadata": {
        "colab": {
          "base_uri": "https://localhost:8080/"
        },
        "id": "nzJhdHj6r3Re",
        "outputId": "b9735358-d3d2-4aec-93ea-de365dd147f2"
      },
      "outputs": [
        {
          "output_type": "stream",
          "name": "stdout",
          "text": [
            "86.5\n"
          ]
        }
      ],
      "source": [
        "power_levels = [86, 92.5, 75, 88.0, 91]\n",
        "if power_levels:\n",
        "  average_level = round( sum(power_levels) / len(power_levels), 2 )\n",
        "else:\n",
        "  average_level = 0\n",
        "print(average_level)"
      ]
    },
    {
      "cell_type": "markdown",
      "source": [
        "**Interview Tip :**\n",
        "never underestimate the input validation, an empty list or incorrect data ina list can collapse your algorithm\n",
        "\n",
        "---\n",
        "\n"
      ],
      "metadata": {
        "id": "CtZilEj4z8yg"
      }
    },
    {
      "cell_type": "code",
      "source": [
        "import statistics\n",
        "powerlevel = {\"Iron_man\" : 98, \"Hulk\" : 100}\n",
        "avg_level = statistics.mean(powerlevel.values())\n",
        "print(avg_level)"
      ],
      "metadata": {
        "colab": {
          "base_uri": "https://localhost:8080/"
        },
        "id": "EsKNBiH91WF1",
        "outputId": "f0c0c0f1-c70f-47f1-8504-a19fc30ee0e4"
      },
      "execution_count": 8,
      "outputs": [
        {
          "output_type": "stream",
          "name": "stdout",
          "text": [
            "99\n"
          ]
        }
      ]
    },
    {
      "cell_type": "markdown",
      "source": [
        "**Interview Tip :**\n",
        "1. dictionary versus list : dictionary is best when the data can be mapped. list works when order or sequence matters\n",
        "2. efficiency : compute averages in one pass using built in functions or libraries\n",
        "3. keep the time complexity in the mind"
      ],
      "metadata": {
        "id": "oAn19a4I36Qg"
      }
    }
  ]
}
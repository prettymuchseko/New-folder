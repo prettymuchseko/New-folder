{
  "nbformat": 4,
  "nbformat_minor": 0,
  "metadata": {
    "colab": {
      "provenance": [],
      "authorship_tag": "ABX9TyObLfb+H4auPOTrYU0ZKufk",
      "include_colab_link": true
    },
    "kernelspec": {
      "name": "python3",
      "display_name": "Python 3"
    },
    "language_info": {
      "name": "python"
    }
  },
  "cells": [
    {
      "cell_type": "markdown",
      "metadata": {
        "id": "view-in-github",
        "colab_type": "text"
      },
      "source": [
        "<a href=\"https://colab.research.google.com/github/prettymuchseko/New-folder/blob/main/Type_Casting_Unit_1_(26_8_25).ipynb\" target=\"_parent\"><img src=\"https://colab.research.google.com/assets/colab-badge.svg\" alt=\"Open In Colab\"/></a>"
      ]
    },
    {
      "cell_type": "markdown",
      "source": [
        "Python variables hold reference to objects, not the actual object themselves.\n",
        "Reassigning of variable doesn't affect other variable referencing the same object unless explicitly updated."
      ],
      "metadata": {
        "id": "0e54d7y4rc4x"
      }
    },
    {
      "cell_type": "markdown",
      "source": [
        "Type Casting"
      ],
      "metadata": {
        "id": "U7cyr_LTtfLM"
      }
    },
    {
      "cell_type": "code",
      "execution_count": 4,
      "metadata": {
        "colab": {
          "base_uri": "https://localhost:8080/"
        },
        "id": "K0jTn3hrnfL-",
        "outputId": "66e416b1-c7ba-402b-bfaf-89bca0169731"
      },
      "outputs": [
        {
          "output_type": "stream",
          "name": "stdout",
          "text": [
            "Original shield stored:  ['vibranium', 'round']\n",
            "Wolverine changes the shield material.\n",
            "New shieled is:  ['adamantium', 'round']\n"
          ]
        }
      ],
      "source": [
        "shield=[\"vibranium\", \"round\"]\n",
        "copy_shield=shield\n",
        "print(\"Original shield stored: \", shield)\n",
        "print(\"Wolverine changes the shield material.\")\n",
        "copy_shield[0]=\"adamantium\"\n",
        "print(\"New shield is: \", shield)"
      ]
    },
    {
      "cell_type": "code",
      "source": [
        "a=[1,2,3]\n",
        "b=a\n",
        "b=[4,5,6]\n",
        "print(\"a: \", a)\n",
        "print(\"b: \", b)\n",
        "del a"
      ],
      "metadata": {
        "colab": {
          "base_uri": "https://localhost:8080/"
        },
        "id": "cc4K7NtSuaGo",
        "outputId": "12a4e405-309a-4adb-b6b1-162f69bb3228"
      },
      "execution_count": 6,
      "outputs": [
        {
          "output_type": "stream",
          "name": "stdout",
          "text": [
            "a:  [1, 2, 3]\n",
            "b:  [4, 5, 6]\n"
          ]
        }
      ]
    },
    {
      "cell_type": "code",
      "source": [
        "a=[81,82,83]\n",
        "b=[81,82,83]\n",
        "print(a is b)\n",
        "print(a==b)"
      ],
      "metadata": {
        "colab": {
          "base_uri": "https://localhost:8080/"
        },
        "id": "1rZMWMz-vAzu",
        "outputId": "01df7b9b-f959-4377-a249-954f83ad88d1"
      },
      "execution_count": 7,
      "outputs": [
        {
          "output_type": "stream",
          "name": "stdout",
          "text": [
            "False\n",
            "True\n"
          ]
        }
      ]
    }
  ]
}
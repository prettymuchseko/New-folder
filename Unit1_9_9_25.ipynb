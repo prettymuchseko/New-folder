{
  "nbformat": 4,
  "nbformat_minor": 0,
  "metadata": {
    "colab": {
      "provenance": [],
      "authorship_tag": "ABX9TyNlkfH4RoIxzh5c/+VuiHUf",
      "include_colab_link": true
    },
    "kernelspec": {
      "name": "python3",
      "display_name": "Python 3"
    },
    "language_info": {
      "name": "python"
    }
  },
  "cells": [
    {
      "cell_type": "markdown",
      "metadata": {
        "id": "view-in-github",
        "colab_type": "text"
      },
      "source": [
        "<a href=\"https://colab.research.google.com/github/prettymuchseko/New-folder/blob/main/Unit1_9_9_25.ipynb\" target=\"_parent\"><img src=\"https://colab.research.google.com/assets/colab-badge.svg\" alt=\"Open In Colab\"/></a>"
      ]
    },
    {
      "cell_type": "code",
      "execution_count": 3,
      "metadata": {
        "colab": {
          "base_uri": "https://localhost:8080/"
        },
        "id": "8bkT-O8Hvh5S",
        "outputId": "57c86a0a-0ab3-4898-a43f-98fbb741281b"
      },
      "outputs": [
        {
          "output_type": "stream",
          "name": "stdout",
          "text": [
            "k@sh\n",
            "akash\n"
          ]
        }
      ],
      "source": [
        "x=\"@k@sh\"\n",
        "print(x.strip(\"@\"))\n",
        "y=\"#k#sh\"\n",
        "print(y.replace(\"#\", \"a\"))"
      ]
    },
    {
      "cell_type": "markdown",
      "source": [
        "Strip or replace can be used to remove the white spaces or special characters. Strip removes the leading and trailing special characters or white spaces, whereas replace removes the characters that can be at any position. The application of these functions are pre-processing or cleaning the datatset in AI-ML (NLP)."
      ],
      "metadata": {
        "id": "2UWNn_RjvmWW"
      }
    },
    {
      "cell_type": "code",
      "source": [
        "x=\"This is a python programming class\"\n",
        "# split() / join()\n",
        "tokens=x.split()\n",
        "print(tokens)\n",
        "print(\"+\".join(tokens))\n",
        "# find()\n",
        "print(x.find(\"python\"))\n",
        "z=\"This is a python python class\"\n",
        "print(z.find(\"python\"))\n",
        "print(z.find(\"pythonlelo\"))\n",
        "print(z.find(\"python\", 2, 5))\n",
        "print(x.find(\"p\", 2, 5))\n",
        "print(x.find(\"i\", 2, 5))\n",
        "print(z.count(\"python\"))\n",
        "print(z.count(\"python\", 1, 16))\n",
        "print(z.count(\"python\", 1, 23))"
      ],
      "metadata": {
        "colab": {
          "base_uri": "https://localhost:8080/"
        },
        "id": "PTgmyF4wwSFs",
        "outputId": "fffe4fd1-e107-4a10-9a81-987feae90c8a"
      },
      "execution_count": 25,
      "outputs": [
        {
          "output_type": "stream",
          "name": "stdout",
          "text": [
            "['This', 'is', 'a', 'python', 'programming', 'class']\n",
            "This+is+a+python+programming+class\n",
            "10\n",
            "10\n",
            "-1\n",
            "-1\n",
            "-1\n",
            "2\n",
            "2\n",
            "1\n",
            "2\n"
          ]
        }
      ]
    },
    {
      "cell_type": "markdown",
      "source": [
        "find method finds the first occurence of the specific value. It will return -1 if value is not found. It has three parameters. First parameter is value which is needed to be searched (mandatory), start parameter (default zero, optoional) and end parameter (optional)."
      ],
      "metadata": {
        "id": "KvtoFw9Yz6FD"
      }
    },
    {
      "cell_type": "code",
      "source": [
        "text = \"Hello. Welcome to this nigga's world.\"\n",
        "print(text.find(\"q\"))\n",
        "print(text.find(\"e\", 5 ,10))\n",
        "print(text.index(\"e\"))\n",
        "print(text.find(\"#\"))\n",
        "print(text.count(\"e\"))\n",
        "# startsWith() / endsWith()\n",
        "print(text.startswith(\"He\"))\n",
        "print(text.endswith(\"world.\"))\n",
        "print(text.startswith(\"He\", 23, 30))\n",
        "print(text.endswith(\"ld.\", 23 ,30))"
      ],
      "metadata": {
        "colab": {
          "base_uri": "https://localhost:8080/"
        },
        "id": "OjT5myB108kd",
        "outputId": "dc341e79-698d-40bb-fda2-7b0a5487b33e"
      },
      "execution_count": 39,
      "outputs": [
        {
          "output_type": "stream",
          "name": "stdout",
          "text": [
            "-1\n",
            "8\n",
            "1\n",
            "-1\n",
            "3\n",
            "True\n",
            "True\n",
            "False\n",
            "False\n"
          ]
        }
      ]
    },
    {
      "cell_type": "markdown",
      "source": [
        "Write a python program to check if the string ends with world or castle.\n",
        "(text=\"Hello. Welcome to my castle.\")"
      ],
      "metadata": {
        "id": "TKXSy9iU3Pku"
      }
    },
    {
      "cell_type": "code",
      "source": [
        "text=\"Hello. Welcome to my castle.\"\n",
        "print(text.endswith((\"castle.\", \"world.\")))"
      ],
      "metadata": {
        "colab": {
          "base_uri": "https://localhost:8080/"
        },
        "id": "m1MZuTb739LL",
        "outputId": "b97b2cdb-0559-47cb-f55d-b3f75950e699"
      },
      "execution_count": 37,
      "outputs": [
        {
          "output_type": "stream",
          "name": "stdout",
          "text": [
            "True\n"
          ]
        }
      ]
    },
    {
      "cell_type": "markdown",
      "source": [
        "You are given a list of string WORDS and a querry QUEUE. Return true if any word start with querry queue.\n",
        "{\n",
        "list=[\"leetcode\", \"love\", \"code\", \"lang\"]\n",
        "queue=\"life\"\n",
        "}"
      ],
      "metadata": {
        "id": "LPsgYfem4sJU"
      }
    },
    {
      "cell_type": "code",
      "source": [
        "li=[\"leetcode\", \"love\", \"code\", \"lang\"]\n",
        "queue=\"life\""
      ],
      "metadata": {
        "id": "fHb7TtUl5exB"
      },
      "execution_count": null,
      "outputs": []
    },
    {
      "cell_type": "markdown",
      "source": [
        "In a digital communication, each transmitted signal starts with a header and ends with a footer. You are given a list of received signals and a refence signal ref. Write a code to check if any received signal has the same header and same footer as reference.\n",
        "{ ref=\"h55f\"\n",
        "signals=[\"h/01f\", \"h202g\", \"h303f\"] }"
      ],
      "metadata": {
        "id": "tBwmY4oK5jF2"
      }
    },
    {
      "cell_type": "code",
      "source": [
        "ref=\"h55f\"\n",
        "signals=[\"h/01f\", \"h202g\", \"h303f\"]"
      ],
      "metadata": {
        "id": "UThHj4wm6Dq9"
      },
      "execution_count": null,
      "outputs": []
    }
  ]
}